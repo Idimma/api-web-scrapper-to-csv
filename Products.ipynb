{
 "cells": [
  {
   "cell_type": "code",
   "execution_count": null,
   "metadata": {
    "collapsed": true
   },
   "outputs": [],
   "source": [
    "from bs4 import BeautifulSoup\n",
    "import csv"
   ]
  },
  {
   "cell_type": "code",
   "execution_count": null,
   "metadata": {
    "collapsed": true
   },
   "outputs": [],
   "source": [
    "import requests\n",
    "import pandas as pd\n",
    "from time import sleep"
   ]
  },
  {
   "cell_type": "code",
   "execution_count": null,
   "metadata": {
    "collapsed": true
   },
   "outputs": [],
   "source": [
    "brand = ' '\n",
    "# header =['BRANDS', 'PRODUCT TITLE', 'PRODUCT GROUP', 'PRODUCT CODE',\n",
    "#          'PRICE', 'PRODUCT IMAGE','PRODUCT', 'DESCRIPTION']\n",
    "# with open('products_list.csv', 'w', newline='', encoding='utf-8') as csvfile:\n",
    "#     writer = csv.writer(csvfile, delimiter=',', quotechar='|', quoting=csv.QUOTE_MINIMAL)\n",
    "#     writer.writerow(header)"
   ]
  },
  {
   "cell_type": "code",
   "execution_count": null,
   "metadata": {
    "collapsed": true
   },
   "outputs": [],
   "source": [
    "df = pd.read_csv(\"products_array.csv\",  encoding = \"utf-8\")"
   ]
  },
  {
   "cell_type": "code",
   "execution_count": null,
   "metadata": {
    "collapsed": true
   },
   "outputs": [],
   "source": [
    "def get_response(brand, page):\n",
    "    url = \"https://www.omnical.co/en/json/productresults\"\n",
    "    payload = \"------WebKitFormBoundary7MA4YWxkTrZu0gW\\r\\nContent-Disposition: form-data; name=\\\"page\\\"\\r\\n\\r\\n\"+str(page)+\"\\r\\n------WebKitFormBoundary7MA4YWxkTrZu0gW\\r\\nContent-Disposition: form-data; name=\\\"q\\\"\\r\\n\\r\\n\\r\\n------WebKitFormBoundary7MA4YWxkTrZu0gW\\r\\nContent-Disposition: form-data; name=\\\"autoclass\\\"\\r\\n\\r\\nfalse\\r\\n------WebKitFormBoundary7MA4YWxkTrZu0gW\\r\\nContent-Disposition: form-data; name=\\\"postData\\\"\\r\\n\\r\\n\\r\\n------WebKitFormBoundary7MA4YWxkTrZu0gW\\r\\nContent-Disposition: form-data; name=\\\"f_brand\\\"\\r\\n\\r\\n\"+brand+\"\\r\\n------WebKitFormBoundary7MA4YWxkTrZu0gW\\r\\nContent-Disposition: form-data; name=\\\"getImages\\\"\\r\\n\\r\\ntrue\\r\\n------WebKitFormBoundary7MA4YWxkTrZu0gW--\"\n",
    "    headers = {\n",
    "        'content-type': \"multipart/form-data; boundary=----WebKitFormBoundary7MA4YWxkTrZu0gW\",\n",
    "        'Cache-Control': \"no-cache\",\n",
    "        'Postman-Token': \"fd232235-7b6f-486b-a63c-d8e6b8572e0b\"\n",
    "        }\n",
    "\n",
    "    response = requests.request(\"POST\", url, data=payload, headers=headers)\n",
    "    return response.json()\n",
    "\n",
    "def get_total(resp):\n",
    "    return resp[total]\n",
    "\n",
    "def get_bs(resp):\n",
    "    divs = BeautifulSoup(resp, 'html.parser')   \n",
    "    return divs"
   ]
  },
  {
   "cell_type": "code",
   "execution_count": null,
   "metadata": {
    "collapsed": true
   },
   "outputs": [],
   "source": [
    "def write_to_file(view):\n",
    "    with open(r'products_list.csv', 'a', newline='') as f:\n",
    "        global brand\n",
    "        writer = csv.writer(f)        \n",
    "        views  = view.findAll('div', attrs={'class':'tradeproduct product-row'})\n",
    "        for i, vw in zip(range(len(views)), views):            \n",
    "            product =  vw.find('div', attrs={'class':'tradeproduct-title'}).text    \n",
    "            prod = product\n",
    "            desc = vw.find('div', attrs={'class':'tradeproduct-generated-description-search'}).text            \n",
    "            if len(product.split(\" \")) >= 4:\n",
    "                product_title = product.split(\" \")[3]\n",
    "                product_group = product.split(\" \")[1]\n",
    "                product_code = product.split(\" \")[2]\n",
    "            else:\n",
    "                product_title = product\n",
    "                product_group = product\n",
    "                product_code = product            \n",
    "            price = vw.find('span', \n",
    "                            attrs={'itemprop':'pricecurrency'}).text +\" \" + vw.find('span', \n",
    "                                                                                    attrs={'itemprop':'price'}).text\n",
    "            product_detail_image = vw.find('img')['src']\n",
    "            writer.writerow([brand, product_title, product_group, product_code, price,\n",
    "                             product_detail_image, prod, desc])"
   ]
  },
  {
   "cell_type": "code",
   "execution_count": null,
   "metadata": {
    "collapsed": true
   },
   "outputs": [],
   "source": [
    "def start(b_rand = -1, page = -1):\n",
    "    global brand\n",
    "    \n",
    "    for index, value in df.iterrows():\n",
    "        if index >  b_rand:\n",
    "            brand = value['brand']\n",
    "            print('Started '+ brand)\n",
    "            html = get_response(brand, 1)\n",
    "            maxi = html['numProducts']        \n",
    "            for x in range(1 , maxi+1): \n",
    "                if x > page and page != 20:\n",
    "                    resp = get_response(brand, x)            \n",
    "                    print('Writing Page '+ str(x) + ' of ' +  str(maxi))\n",
    "                    write_to_file(get_bs(resp['productView']))\n",
    "            print('Done with ' + brand)\n",
    "    "
   ]
  },
  {
   "cell_type": "code",
   "execution_count": null,
   "metadata": {},
   "outputs": [],
   "source": [
    "start(-1, -1) #START FROM THE VERY BEGINNING "
   ]
  },
  {
   "cell_type": "code",
   "execution_count": null,
   "metadata": {
    "collapsed": true
   },
   "outputs": [],
   "source": []
  }
 ],
 "metadata": {
  "kernelspec": {
   "display_name": "Python 3",
   "language": "python",
   "name": "python3"
  },
  "language_info": {
   "codemirror_mode": {
    "name": "ipython",
    "version": 3
   },
   "file_extension": ".py",
   "mimetype": "text/x-python",
   "name": "python",
   "nbconvert_exporter": "python",
   "pygments_lexer": "ipython3",
   "version": "3.5.3"
  }
 },
 "nbformat": 4,
 "nbformat_minor": 2
}
